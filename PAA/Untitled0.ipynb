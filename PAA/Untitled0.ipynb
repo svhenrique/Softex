{
  "nbformat": 4,
  "nbformat_minor": 0,
  "metadata": {
    "colab": {
      "name": "Untitled0.ipynb",
      "provenance": [],
      "collapsed_sections": [
        "sJUH7erlrLoh"
      ],
      "authorship_tag": "ABX9TyMRhTDAc31H9RUeEVn9jBvu",
      "include_colab_link": true
    },
    "kernelspec": {
      "name": "python3",
      "display_name": "Python 3"
    },
    "language_info": {
      "name": "python"
    }
  },
  "cells": [
    {
      "cell_type": "markdown",
      "metadata": {
        "id": "view-in-github",
        "colab_type": "text"
      },
      "source": [
        "<a href=\"https://colab.research.google.com/github/svhenrique/Softex/blob/master/PAA/Untitled0.ipynb\" target=\"_parent\"><img src=\"https://colab.research.google.com/assets/colab-badge.svg\" alt=\"Open In Colab\"/></a>"
      ]
    },
    {
      "cell_type": "markdown",
      "metadata": {
        "id": "YBRLZPHxasJr"
      },
      "source": [
        "## Sobre o Algoritmo Tree Sort"
      ]
    },
    {
      "cell_type": "markdown",
      "metadata": {
        "id": "zy7IBjTZetdc"
      },
      "source": [
        "**Sobre o algoritmo**\n",
        "\n",
        "O algoritmo de ordenação Tree Sort é baseado na estrutura de dados Árvore de Busca Binária e retorna o input de elementos ordenados em valor crescente.\n",
        "\n",
        "Consiste, o algoritmo, em criar uma arvore de busca binária dos elementos que serão ordenados, \n",
        "então os elementos são coletados do primeiro nó a esquerda até o ultimo nó a direita, \n",
        "quando houverem dois nós, um a esquerda e outro a direita, é coletado o da esquerda primeiro.\n",
        "\n"
      ]
    },
    {
      "cell_type": "markdown",
      "metadata": {
        "id": "gFjKokGQyCI1"
      },
      "source": [
        "**Algoritmo Tree Sort**\n",
        "\n",
        "\n",
        "1.   Reeceba os elementos de um input em um array.\n",
        "2.   Criar uma árvore de busca binária inserindo os elemtos do array.\n",
        "3.   Colete os elementos em ordem crescente na árvore para ordenar o array.\n",
        "\n"
      ]
    },
    {
      "cell_type": "markdown",
      "metadata": {
        "id": "6GSDPNcmcd99"
      },
      "source": [
        "**Fontes:**\n",
        "* https://www.geeksforgeeks.org/tree-sort/\n",
        "* https://www.geeksforgeeks.org/self-balancing-binary-search-trees-comparisons/\n",
        "* https://en.wikipedia.org/wiki/Self-balancing_binary_search_tree\n",
        "* https://www.geeksforgeeks.org/how-to-handle-duplicates-in-binary-search-tree/\n",
        "* https://www.geeksforgeeks.org/inorder-tree-traversal-without-recursion/\n"
      ]
    },
    {
      "cell_type": "markdown",
      "metadata": {
        "id": "5dyIMbn4x5Xl"
      },
      "source": [
        "## Codificando"
      ]
    },
    {
      "cell_type": "markdown",
      "metadata": {
        "id": "CyCZPoolo9-m"
      },
      "source": [
        "### Algoritmo com recursão"
      ]
    },
    {
      "cell_type": "code",
      "metadata": {
        "id": "8E1oeY0h_rBb"
      },
      "source": [
        "class No: \n",
        "  \n",
        "    def __init__(self, valor): \n",
        "        self.valor = valor\n",
        "        self.quantidade = 1\n",
        "        self.esquerda = None\n",
        "        self.direita = None\n",
        "\n",
        "class TreeSortRecursion:\n",
        "  \"\"\"\n",
        "    comparacoes representa o numero de comparacoes feitas na ordenacao\n",
        "    operacoes representa o numero de Nos criados e vinculados a arvora\n",
        "  \"\"\"\n",
        "  comparacoes = 0\n",
        "  operacoes = 0 \n",
        "  \n",
        "  def _insert(self, no, valor):\n",
        "      \n",
        "      self.comparacoes += 1\n",
        "\n",
        "      if no == None:\n",
        "          self.operacoes += 1\n",
        "          return No(valor)\n",
        "\n",
        "      if valor == no.valor:\n",
        "          (no.quantidade) += 1\n",
        "          self.operacoes += 1\n",
        "          return no\n",
        "    \n",
        "      if valor < no.valor: \n",
        "          no.esquerda = self._insert(no.esquerda, valor) \n",
        "      else:\n",
        "          no.direita = self._insert(no.direita, valor)\n",
        "    \n",
        "      return no\n",
        "\n",
        "  def _inorder(self, root):\n",
        "    if root != None:\n",
        "        self._inorder(root.esquerda)\n",
        "        print('{}'.format(f' {root.valor}'*root.quantidade), \n",
        "                                 end = \"\") \n",
        "        self._inorder(root.direita)\n",
        "  \n",
        "  def insert_vector(self, valores):\n",
        "    root = self._insert(None, valores[0])\n",
        "    for valor in range(1, len(valores)):\n",
        "      root = self._insert(root, valores[valor])\n",
        "    #self._inorder(root)\n"
      ],
      "execution_count": 23,
      "outputs": []
    },
    {
      "cell_type": "markdown",
      "metadata": {
        "id": "L-vvraDczVDe"
      },
      "source": [
        "### Algoritmo sem recursão"
      ]
    },
    {
      "cell_type": "code",
      "metadata": {
        "id": "MOKNH6cgvEBl"
      },
      "source": [
        "class No: \n",
        "  \n",
        "    def __init__(self, valor): \n",
        "        self.valor = valor\n",
        "        self.quantidade = 1\n",
        "        self.esquerda = None\n",
        "        self.direita = None\n",
        "  \n",
        "\n",
        "class TreeSortIterative:\n",
        "  \"\"\"\n",
        "    comparacoes representa o numero de comparacoes feitas na ordenacao\n",
        "    operacoes representa o numero de Nos criados e vinculados a arvora\n",
        "  \"\"\"\n",
        "\n",
        "  comparacoes = 0\n",
        "\n",
        "  def __init__(self, raiz):\n",
        "    self.raiz = No(raiz)\n",
        "    self.operacoes = 1\n",
        "\n",
        "  def _insert(self, valor):\n",
        "\n",
        "      no = self.raiz\n",
        "\n",
        "      while True:\n",
        "        \n",
        "        self.comparacoes += 1\n",
        "\n",
        "        if valor == no.valor:\n",
        "          no.quantidade += 1\n",
        "          self.operacoes += 1\n",
        "          return no\n",
        "\n",
        "        elif valor < no.valor:\n",
        "\n",
        "          if no.esquerda is None:\n",
        "            no.esquerda = No(valor)\n",
        "            self.operacoes += 1\n",
        "            return no\n",
        "\n",
        "          no = no.esquerda\n",
        "\n",
        "        else:\n",
        "\n",
        "          if no.direita is None:\n",
        "            no.direita = No(valor)\n",
        "            self.operacoes += 1\n",
        "            return no\n",
        "\n",
        "          no = no.direita\n",
        "        \n",
        "  def _inorder(self):\n",
        "\n",
        "    no = self.raiz\n",
        "    pilha = []\n",
        "\n",
        "    while True:\n",
        "      \n",
        "      if no is not None:\n",
        "        pilha.append(no)\n",
        "        no = no.esquerda\n",
        "\n",
        "      elif no is None and len(pilha) > 0:\n",
        "        no_removido = pilha.pop()\n",
        "        print('{}'.format( (str(no_removido.valor)+' ') * no_removido.quantidade), end='')\n",
        "        no = no_removido.direita\n",
        "     \n",
        "      else:\n",
        "        break\n",
        "\n",
        "  def insert_vector(self, valores):\n",
        "    for valor in range(1, len(valores)):\n",
        "      root = self._insert(valores[valor])\n",
        "    #self._inorder()"
      ],
      "execution_count": 24,
      "outputs": []
    },
    {
      "cell_type": "markdown",
      "metadata": {
        "id": "sJUH7erlrLoh"
      },
      "source": [
        "### Abstração para rodar os algoritmos"
      ]
    },
    {
      "cell_type": "code",
      "metadata": {
        "id": "kte8pyUUrIrh"
      },
      "source": [
        "# funcao para ordenar usando algoritmo com recursao\n",
        "import time # biblioteca para medir tempo\n",
        "def ordenar_com_recursao(valores):\n",
        "  inicio = time.time()\n",
        "  \n",
        "  tree = TreeSortRecursion()\n",
        "  tree.insert_vector(valores)\n",
        "  \n",
        "  fim = time.time()\n",
        "\n",
        "  print()\n",
        "\n",
        "  \n",
        "  # tempo de execucao\n",
        "  tempo = fim - inicio\n",
        "  \n",
        "  comparacoes = tree.comparacoes\n",
        "  operacoes = tree.operacoes\n",
        "\n",
        "  return {\n",
        "      'tempo em segundos':tempo, \n",
        "      'comparacoes': comparacoes,\n",
        "      'operacoes':operacoes\n",
        "  }"
      ],
      "execution_count": 25,
      "outputs": []
    },
    {
      "cell_type": "code",
      "metadata": {
        "id": "UF7zCE0Nv_pg"
      },
      "source": [
        "# funcao para ordenar usando algoritmo sem recursao (iterativo)\n",
        "\n",
        "import time # biblioteca para medir tempo\n",
        "def ordenar_sem_recursao(valores):\n",
        "\n",
        "  inicio = time.time()\n",
        "  raiz = valores[0]\n",
        "  tree = TreeSortIterative(raiz)\n",
        "  tree.insert_vector(valores)\n",
        "  fim = time.time()\n",
        "  print()\n",
        "\n",
        "  \n",
        "  # tempo de execucao\n",
        "  tempo = fim - inicio\n",
        "  \n",
        "  comparacoes = tree.comparacoes\n",
        "  operacoes = tree.operacoes\n",
        "\n",
        "  return {\n",
        "      'tempo em segundos':tempo, \n",
        "      'comparacoes': comparacoes,\n",
        "      'operacoes': operacoes\n",
        "  }"
      ],
      "execution_count": 26,
      "outputs": []
    },
    {
      "cell_type": "markdown",
      "metadata": {
        "id": "iZpBUvBpjzJv"
      },
      "source": [
        "## Testando"
      ]
    },
    {
      "cell_type": "code",
      "metadata": {
        "id": "370aSAEqUeNo"
      },
      "source": [
        "import random\n",
        "from matplotlib import pyplot as plt"
      ],
      "execution_count": 27,
      "outputs": []
    },
    {
      "cell_type": "markdown",
      "metadata": {
        "id": "szM6MqIEZkVx"
      },
      "source": [
        "### 10000 elementos"
      ]
    },
    {
      "cell_type": "code",
      "metadata": {
        "id": "LuVSPFbJj1yv"
      },
      "source": [
        "pior_caso = list(range(10000, 0, -1))\n",
        "melhor_caso = list(range(1, 10001))\n",
        "medio_caso = random.sample(range(1, 10001), 10000)"
      ],
      "execution_count": 40,
      "outputs": []
    },
    {
      "cell_type": "markdown",
      "metadata": {
        "id": "GjtRYsmLU7vo"
      },
      "source": [
        "#### Testando para melhor caso"
      ]
    },
    {
      "cell_type": "code",
      "metadata": {
        "colab": {
          "base_uri": "https://localhost:8080/",
          "height": 358
        },
        "id": "DeUaHmLuVVBA",
        "outputId": "8b11d6ee-b27d-41dd-8021-68e40b33552a"
      },
      "source": [
        "ordenar_com_recursao(melhor_caso)"
      ],
      "execution_count": 41,
      "outputs": [
        {
          "output_type": "error",
          "ename": "RecursionError",
          "evalue": "ignored",
          "traceback": [
            "\u001b[0;31m---------------------------------------------------------------------------\u001b[0m",
            "\u001b[0;31mRecursionError\u001b[0m                            Traceback (most recent call last)",
            "\u001b[0;32m<ipython-input-41-c493c559a0c4>\u001b[0m in \u001b[0;36m<module>\u001b[0;34m()\u001b[0m\n\u001b[0;32m----> 1\u001b[0;31m \u001b[0mordenar_com_recursao\u001b[0m\u001b[0;34m(\u001b[0m\u001b[0mmelhor_caso\u001b[0m\u001b[0;34m)\u001b[0m\u001b[0;34m\u001b[0m\u001b[0;34m\u001b[0m\u001b[0m\n\u001b[0m",
            "\u001b[0;32m<ipython-input-25-0a35a063e389>\u001b[0m in \u001b[0;36mordenar_com_recursao\u001b[0;34m(valores)\u001b[0m\n\u001b[1;32m      5\u001b[0m \u001b[0;34m\u001b[0m\u001b[0m\n\u001b[1;32m      6\u001b[0m   \u001b[0mtree\u001b[0m \u001b[0;34m=\u001b[0m \u001b[0mTreeSortRecursion\u001b[0m\u001b[0;34m(\u001b[0m\u001b[0;34m)\u001b[0m\u001b[0;34m\u001b[0m\u001b[0;34m\u001b[0m\u001b[0m\n\u001b[0;32m----> 7\u001b[0;31m   \u001b[0mtree\u001b[0m\u001b[0;34m.\u001b[0m\u001b[0minsert_vector\u001b[0m\u001b[0;34m(\u001b[0m\u001b[0mvalores\u001b[0m\u001b[0;34m)\u001b[0m\u001b[0;34m\u001b[0m\u001b[0;34m\u001b[0m\u001b[0m\n\u001b[0m\u001b[1;32m      8\u001b[0m \u001b[0;34m\u001b[0m\u001b[0m\n\u001b[1;32m      9\u001b[0m   \u001b[0mfim\u001b[0m \u001b[0;34m=\u001b[0m \u001b[0mtime\u001b[0m\u001b[0;34m.\u001b[0m\u001b[0mtime\u001b[0m\u001b[0;34m(\u001b[0m\u001b[0;34m)\u001b[0m\u001b[0;34m\u001b[0m\u001b[0;34m\u001b[0m\u001b[0m\n",
            "\u001b[0;32m<ipython-input-23-2593383cfcd5>\u001b[0m in \u001b[0;36minsert_vector\u001b[0;34m(self, valores)\u001b[0m\n\u001b[1;32m     45\u001b[0m     \u001b[0mroot\u001b[0m \u001b[0;34m=\u001b[0m \u001b[0mself\u001b[0m\u001b[0;34m.\u001b[0m\u001b[0m_insert\u001b[0m\u001b[0;34m(\u001b[0m\u001b[0;32mNone\u001b[0m\u001b[0;34m,\u001b[0m \u001b[0mvalores\u001b[0m\u001b[0;34m[\u001b[0m\u001b[0;36m0\u001b[0m\u001b[0;34m]\u001b[0m\u001b[0;34m)\u001b[0m\u001b[0;34m\u001b[0m\u001b[0;34m\u001b[0m\u001b[0m\n\u001b[1;32m     46\u001b[0m     \u001b[0;32mfor\u001b[0m \u001b[0mvalor\u001b[0m \u001b[0;32min\u001b[0m \u001b[0mrange\u001b[0m\u001b[0;34m(\u001b[0m\u001b[0;36m1\u001b[0m\u001b[0;34m,\u001b[0m \u001b[0mlen\u001b[0m\u001b[0;34m(\u001b[0m\u001b[0mvalores\u001b[0m\u001b[0;34m)\u001b[0m\u001b[0;34m)\u001b[0m\u001b[0;34m:\u001b[0m\u001b[0;34m\u001b[0m\u001b[0;34m\u001b[0m\u001b[0m\n\u001b[0;32m---> 47\u001b[0;31m       \u001b[0mroot\u001b[0m \u001b[0;34m=\u001b[0m \u001b[0mself\u001b[0m\u001b[0;34m.\u001b[0m\u001b[0m_insert\u001b[0m\u001b[0;34m(\u001b[0m\u001b[0mroot\u001b[0m\u001b[0;34m,\u001b[0m \u001b[0mvalores\u001b[0m\u001b[0;34m[\u001b[0m\u001b[0mvalor\u001b[0m\u001b[0;34m]\u001b[0m\u001b[0;34m)\u001b[0m\u001b[0;34m\u001b[0m\u001b[0;34m\u001b[0m\u001b[0m\n\u001b[0m\u001b[1;32m     48\u001b[0m     \u001b[0;31m#self._inorder(root)\u001b[0m\u001b[0;34m\u001b[0m\u001b[0;34m\u001b[0m\u001b[0;34m\u001b[0m\u001b[0m\n",
            "\u001b[0;32m<ipython-input-23-2593383cfcd5>\u001b[0m in \u001b[0;36m_insert\u001b[0;34m(self, no, valor)\u001b[0m\n\u001b[1;32m     31\u001b[0m           \u001b[0mno\u001b[0m\u001b[0;34m.\u001b[0m\u001b[0mesquerda\u001b[0m \u001b[0;34m=\u001b[0m \u001b[0mself\u001b[0m\u001b[0;34m.\u001b[0m\u001b[0m_insert\u001b[0m\u001b[0;34m(\u001b[0m\u001b[0mno\u001b[0m\u001b[0;34m.\u001b[0m\u001b[0mesquerda\u001b[0m\u001b[0;34m,\u001b[0m \u001b[0mvalor\u001b[0m\u001b[0;34m)\u001b[0m\u001b[0;34m\u001b[0m\u001b[0;34m\u001b[0m\u001b[0m\n\u001b[1;32m     32\u001b[0m       \u001b[0;32melse\u001b[0m\u001b[0;34m:\u001b[0m\u001b[0;34m\u001b[0m\u001b[0;34m\u001b[0m\u001b[0m\n\u001b[0;32m---> 33\u001b[0;31m           \u001b[0mno\u001b[0m\u001b[0;34m.\u001b[0m\u001b[0mdireita\u001b[0m \u001b[0;34m=\u001b[0m \u001b[0mself\u001b[0m\u001b[0;34m.\u001b[0m\u001b[0m_insert\u001b[0m\u001b[0;34m(\u001b[0m\u001b[0mno\u001b[0m\u001b[0;34m.\u001b[0m\u001b[0mdireita\u001b[0m\u001b[0;34m,\u001b[0m \u001b[0mvalor\u001b[0m\u001b[0;34m)\u001b[0m\u001b[0;34m\u001b[0m\u001b[0;34m\u001b[0m\u001b[0m\n\u001b[0m\u001b[1;32m     34\u001b[0m \u001b[0;34m\u001b[0m\u001b[0m\n\u001b[1;32m     35\u001b[0m       \u001b[0;32mreturn\u001b[0m \u001b[0mno\u001b[0m\u001b[0;34m\u001b[0m\u001b[0;34m\u001b[0m\u001b[0m\n",
            "... last 1 frames repeated, from the frame below ...\n",
            "\u001b[0;32m<ipython-input-23-2593383cfcd5>\u001b[0m in \u001b[0;36m_insert\u001b[0;34m(self, no, valor)\u001b[0m\n\u001b[1;32m     31\u001b[0m           \u001b[0mno\u001b[0m\u001b[0;34m.\u001b[0m\u001b[0mesquerda\u001b[0m \u001b[0;34m=\u001b[0m \u001b[0mself\u001b[0m\u001b[0;34m.\u001b[0m\u001b[0m_insert\u001b[0m\u001b[0;34m(\u001b[0m\u001b[0mno\u001b[0m\u001b[0;34m.\u001b[0m\u001b[0mesquerda\u001b[0m\u001b[0;34m,\u001b[0m \u001b[0mvalor\u001b[0m\u001b[0;34m)\u001b[0m\u001b[0;34m\u001b[0m\u001b[0;34m\u001b[0m\u001b[0m\n\u001b[1;32m     32\u001b[0m       \u001b[0;32melse\u001b[0m\u001b[0;34m:\u001b[0m\u001b[0;34m\u001b[0m\u001b[0;34m\u001b[0m\u001b[0m\n\u001b[0;32m---> 33\u001b[0;31m           \u001b[0mno\u001b[0m\u001b[0;34m.\u001b[0m\u001b[0mdireita\u001b[0m \u001b[0;34m=\u001b[0m \u001b[0mself\u001b[0m\u001b[0;34m.\u001b[0m\u001b[0m_insert\u001b[0m\u001b[0;34m(\u001b[0m\u001b[0mno\u001b[0m\u001b[0;34m.\u001b[0m\u001b[0mdireita\u001b[0m\u001b[0;34m,\u001b[0m \u001b[0mvalor\u001b[0m\u001b[0;34m)\u001b[0m\u001b[0;34m\u001b[0m\u001b[0;34m\u001b[0m\u001b[0m\n\u001b[0m\u001b[1;32m     34\u001b[0m \u001b[0;34m\u001b[0m\u001b[0m\n\u001b[1;32m     35\u001b[0m       \u001b[0;32mreturn\u001b[0m \u001b[0mno\u001b[0m\u001b[0;34m\u001b[0m\u001b[0;34m\u001b[0m\u001b[0m\n",
            "\u001b[0;31mRecursionError\u001b[0m: maximum recursion depth exceeded"
          ]
        }
      ]
    },
    {
      "cell_type": "markdown",
      "metadata": {
        "id": "HB2_RanSA5CW"
      },
      "source": [
        "Como a função com recursão não aceita inputs com mais de 10000, não será mais usada.\n",
        "Continuaremos usando a função iterativa por esse motivo."
      ]
    },
    {
      "cell_type": "code",
      "metadata": {
        "colab": {
          "base_uri": "https://localhost:8080/"
        },
        "id": "uSgP2m4EwWaw",
        "outputId": "674b5814-78fd-4365-8489-d1da6b435cd9"
      },
      "source": [
        "melhor = ordenar_sem_recursao(melhor_caso)\n",
        "melhor"
      ],
      "execution_count": 58,
      "outputs": [
        {
          "output_type": "stream",
          "text": [
            "\n"
          ],
          "name": "stdout"
        },
        {
          "output_type": "execute_result",
          "data": {
            "text/plain": [
              "{'comparacoes': 49995000,\n",
              " 'operacoes': 10000,\n",
              " 'tempo em segundos': 17.821187019348145}"
            ]
          },
          "metadata": {
            "tags": []
          },
          "execution_count": 58
        }
      ]
    },
    {
      "cell_type": "markdown",
      "metadata": {
        "id": "4cfTbEJdVq5o"
      },
      "source": [
        "#### Testando para o pior caso"
      ]
    },
    {
      "cell_type": "code",
      "metadata": {
        "colab": {
          "base_uri": "https://localhost:8080/"
        },
        "id": "K9CVT_GaVvCm",
        "outputId": "27dc71b0-aafb-47fc-ff16-57803eac2961"
      },
      "source": [
        "pior = ordenar_sem_recursao(pior_caso)\n",
        "pior"
      ],
      "execution_count": 59,
      "outputs": [
        {
          "output_type": "stream",
          "text": [
            "\n"
          ],
          "name": "stdout"
        },
        {
          "output_type": "execute_result",
          "data": {
            "text/plain": [
              "{'comparacoes': 49995000,\n",
              " 'operacoes': 10000,\n",
              " 'tempo em segundos': 18.024406909942627}"
            ]
          },
          "metadata": {
            "tags": []
          },
          "execution_count": 59
        }
      ]
    },
    {
      "cell_type": "markdown",
      "metadata": {
        "id": "1ZU0X2SxXvyi"
      },
      "source": [
        "#### Testando para o caso médio"
      ]
    },
    {
      "cell_type": "code",
      "metadata": {
        "colab": {
          "base_uri": "https://localhost:8080/"
        },
        "id": "CS8ilMXhXvyt",
        "outputId": "6eb6b38b-dfea-4272-ccfc-891149209d8e"
      },
      "source": [
        "medio = ordenar_sem_recursao(medio_caso)\n",
        "medio"
      ],
      "execution_count": 60,
      "outputs": [
        {
          "output_type": "stream",
          "text": [
            "\n"
          ],
          "name": "stdout"
        },
        {
          "output_type": "execute_result",
          "data": {
            "text/plain": [
              "{'comparacoes': 156365,\n",
              " 'operacoes': 10000,\n",
              " 'tempo em segundos': 0.1632089614868164}"
            ]
          },
          "metadata": {
            "tags": []
          },
          "execution_count": 60
        }
      ]
    },
    {
      "cell_type": "markdown",
      "metadata": {
        "id": "D9HrRAZ0bJGD"
      },
      "source": [
        "#### Comparando"
      ]
    },
    {
      "cell_type": "code",
      "metadata": {
        "colab": {
          "base_uri": "https://localhost:8080/",
          "height": 281
        },
        "id": "YsQGLaeMbK9x",
        "outputId": "8d38a572-996c-4c02-eb3d-d7444b4d1713"
      },
      "source": [
        "# comparacoes\n",
        "plt.bar(['Melhor', 'Medio', 'Pior'], [melhor['comparacoes'], medio['comparacoes'], pior['comparacoes']])\n",
        "plt.title('Comparação')\n",
        "plt.grid(True)\n",
        "plt.show()"
      ],
      "execution_count": 61,
      "outputs": [
        {
          "output_type": "display_data",
          "data": {
            "image/png": "[encoded data removed]",
            "text/plain": [
              "<Figure size 432x288 with 1 Axes>"
            ]
          },
          "metadata": {
            "tags": [],
            "needs_background": "light"
          }
        }
      ]
    },
    {
      "cell_type": "code",
      "metadata": {
        "colab": {
          "base_uri": "https://localhost:8080/",
          "height": 281
        },
        "id": "J4vOZD2Ock3S",
        "outputId": "9e9052ff-d88a-4c34-c790-31d3cf992d40"
      },
      "source": [
        "# operacoes\n",
        "plt.bar(['Melhor', 'Medio', 'Pior'], [melhor['operacoes'], medio['operacoes'], pior['operacoes']])\n",
        "plt.title('Comparação')\n",
        "plt.grid(True)\n",
        "plt.show()"
      ],
      "execution_count": 62,
      "outputs": [
        {
          "output_type": "display_data",
          "data": {
            "image/png": "[encoded data removed]",
            "text/plain": [
              "<Figure size 432x288 with 1 Axes>"
            ]
          },
          "metadata": {
            "tags": [],
            "needs_background": "light"
          }
        }
      ]
    },
    {
      "cell_type": "code",
      "metadata": {
        "colab": {
          "base_uri": "https://localhost:8080/",
          "height": 281
        },
        "id": "4Tnjy45dczQ6",
        "outputId": "8f288791-e65c-4256-cf6e-00aa7c166503"
      },
      "source": [
        "# tempo\n",
        "plt.bar(['Melhor', 'Medio', 'Pior'], [melhor['tempo em segundos'], medio['tempo em segundos'], pior['tempo em segundos']])\n",
        "plt.title('Comparação')\n",
        "plt.grid(True)\n",
        "plt.show()"
      ],
      "execution_count": 63,
      "outputs": [
        {
          "output_type": "display_data",
          "data": {
            "image/png": "[encoded data removed]",
            "text/plain": [
              "<Figure size 432x288 with 1 Axes>"
            ]
          },
          "metadata": {
            "tags": [],
            "needs_background": "light"
          }
        }
      ]
    },
    {
      "cell_type": "markdown",
      "metadata": {
        "id": "vLUmN7LAZ0Z0"
      },
      "source": [
        "### 100000 elementos"
      ]
    },
    {
      "cell_type": "code",
      "metadata": {
        "id": "wLdhwyGhZ0Z-"
      },
      "source": [
        "pior_caso = list(range(100000, 0, -1))\n",
        "melhor_caso = list(range(1, 100001))\n",
        "medio_caso = random.sample(range(1, 100001), 100000)"
      ],
      "execution_count": 33,
      "outputs": []
    },
    {
      "cell_type": "markdown",
      "metadata": {
        "id": "USMRIc4cZ0Z-"
      },
      "source": [
        "#### Testando para melhor caso"
      ]
    },
    {
      "cell_type": "code",
      "metadata": {
        "colab": {
          "base_uri": "https://localhost:8080/"
        },
        "id": "OoHiCPbaZ0Z_",
        "outputId": "2d64f660-29a8-45bc-a24b-5442ed5f2ea8"
      },
      "source": [
        "melhor = ordenar_sem_recursao(melhor_caso)\n",
        "melhor"
      ],
      "execution_count": 34,
      "outputs": [
        {
          "output_type": "stream",
          "text": [
            "\n"
          ],
          "name": "stdout"
        },
        {
          "output_type": "execute_result",
          "data": {
            "text/plain": [
              "{'comparacoes': 4999950000,\n",
              " 'operacoes': 100000,\n",
              " 'tempo em segundos': 1941.6711933612823}"
            ]
          },
          "metadata": {
            "tags": []
          },
          "execution_count": 34
        }
      ]
    },
    {
      "cell_type": "markdown",
      "metadata": {
        "id": "oCVLVKkGZ0aA"
      },
      "source": [
        "#### Testando para o pior caso"
      ]
    },
    {
      "cell_type": "code",
      "metadata": {
        "id": "4GUNaVQkZ0aA",
        "colab": {
          "base_uri": "https://localhost:8080/"
        },
        "outputId": "9b52767f-69e5-49c9-db25-006682e402fc"
      },
      "source": [
        "pior = ordenar_sem_recursao(pior_caso)\n",
        "pior"
      ],
      "execution_count": 35,
      "outputs": [
        {
          "output_type": "stream",
          "text": [
            "\n"
          ],
          "name": "stdout"
        },
        {
          "output_type": "execute_result",
          "data": {
            "text/plain": [
              "{'comparacoes': 4999950000,\n",
              " 'operacoes': 100000,\n",
              " 'tempo em segundos': 1971.238587141037}"
            ]
          },
          "metadata": {
            "tags": []
          },
          "execution_count": 35
        }
      ]
    },
    {
      "cell_type": "markdown",
      "metadata": {
        "id": "b1_VhkAjZ0aB"
      },
      "source": [
        "#### Testando para o caso médio"
      ]
    },
    {
      "cell_type": "code",
      "metadata": {
        "id": "p0uLeESOZ0aB",
        "colab": {
          "base_uri": "https://localhost:8080/"
        },
        "outputId": "28748470-5764-4002-cdbc-2b5ecd2167ed"
      },
      "source": [
        "medio = ordenar_sem_recursao(medio_caso)\n",
        "medio"
      ],
      "execution_count": 36,
      "outputs": [
        {
          "output_type": "stream",
          "text": [
            "\n"
          ],
          "name": "stdout"
        },
        {
          "output_type": "execute_result",
          "data": {
            "text/plain": [
              "{'comparacoes': 2034879,\n",
              " 'operacoes': 100000,\n",
              " 'tempo em segundos': 1.537031888961792}"
            ]
          },
          "metadata": {
            "tags": []
          },
          "execution_count": 36
        }
      ]
    },
    {
      "cell_type": "markdown",
      "metadata": {
        "id": "s4KK46-sdCnc"
      },
      "source": [
        "#### Comparando"
      ]
    },
    {
      "cell_type": "code",
      "metadata": {
        "id": "7rGkI5mqdCnl",
        "colab": {
          "base_uri": "https://localhost:8080/",
          "height": 281
        },
        "outputId": "d8c8d06f-9010-43bd-f526-bb2bb4525c19"
      },
      "source": [
        "# comparacoes\n",
        "plt.bar(['Melhor', 'Medio', 'Pior'], [melhor['comparacoes'], medio['comparacoes'], pior['comparacoes']])\n",
        "plt.title('Comparação')\n",
        "plt.grid(True)\n",
        "plt.show()"
      ],
      "execution_count": 37,
      "outputs": [
        {
          "output_type": "display_data",
          "data": {
            "image/png": "[encoded data removed]",
            "text/plain": [
              "<Figure size 432x288 with 1 Axes>"
            ]
          },
          "metadata": {
            "tags": [],
            "needs_background": "light"
          }
        }
      ]
    },
    {
      "cell_type": "code",
      "metadata": {
        "id": "vJ34cuVvdCnm",
        "colab": {
          "base_uri": "https://localhost:8080/",
          "height": 281
        },
        "outputId": "1fccdd61-0f13-4369-89b5-7d3f4fc6fe5e"
      },
      "source": [
        "# operacoes\n",
        "plt.bar(['Melhor', 'Medio', 'Pior'], [melhor['operacoes'], medio['operacoes'], pior['operacoes']])\n",
        "plt.title('Comparação')\n",
        "plt.grid(True)\n",
        "plt.show()"
      ],
      "execution_count": 38,
      "outputs": [
        {
          "output_type": "display_data",
          "data": {
            "image/png": "[encoded data removed]",
            "text/plain": [
              "<Figure size 432x288 with 1 Axes>"
            ]
          },
          "metadata": {
            "tags": [],
            "needs_background": "light"
          }
        }
      ]
    },
    {
      "cell_type": "code",
      "metadata": {
        "id": "dJIE2i6udCnm",
        "colab": {
          "base_uri": "https://localhost:8080/",
          "height": 281
        },
        "outputId": "f4ae52b6-4e45-406e-a3f4-899764dc1cd6"
      },
      "source": [
        "# tempo\n",
        "plt.bar(['Melhor', 'Medio', 'Pior'], [melhor['tempo em segundos'], medio['tempo em segundos'], pior['tempo em segundos']])\n",
        "plt.title('Comparação')\n",
        "plt.grid(True)\n",
        "plt.show()"
      ],
      "execution_count": 39,
      "outputs": [
        {
          "output_type": "display_data",
          "data": {
            "image/png": "[encoded data removed]",
            "text/plain": [
              "<Figure size 432x288 with 1 Axes>"
            ]
          },
          "metadata": {
            "tags": [],
            "needs_background": "light"
          }
        }
      ]
    }
  ]
}